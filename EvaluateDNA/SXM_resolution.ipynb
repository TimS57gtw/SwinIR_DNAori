{
 "cells": [
  {
   "cell_type": "code",
   "execution_count": 1,
   "metadata": {
    "collapsed": true,
    "ExecuteTime": {
     "end_time": "2023-10-18T07:17:53.305844800Z",
     "start_time": "2023-10-18T07:17:52.381476800Z"
    }
   },
   "outputs": [
    {
     "ename": "ModuleNotFoundError",
     "evalue": "No module named 'pySPM'",
     "output_type": "error",
     "traceback": [
      "\u001B[1;31m---------------------------------------------------------------------------\u001B[0m",
      "\u001B[1;31mModuleNotFoundError\u001B[0m                       Traceback (most recent call last)",
      "\u001B[1;32m~\\AppData\\Local\\Temp\\ipykernel_23452\\2448464774.py\u001B[0m in \u001B[0;36m<module>\u001B[1;34m\u001B[0m\n\u001B[0;32m      5\u001B[0m \u001B[1;32mimport\u001B[0m \u001B[0mstruct\u001B[0m\u001B[1;33m\u001B[0m\u001B[1;33m\u001B[0m\u001B[0m\n\u001B[0;32m      6\u001B[0m \u001B[1;32mfrom\u001B[0m \u001B[0mReadWriteSXM\u001B[0m \u001B[1;32mimport\u001B[0m \u001B[0mSPM\u001B[0m\u001B[1;33m\u001B[0m\u001B[1;33m\u001B[0m\u001B[0m\n\u001B[1;32m----> 7\u001B[1;33m \u001B[1;32mimport\u001B[0m \u001B[0mpySPM\u001B[0m\u001B[1;33m\u001B[0m\u001B[1;33m\u001B[0m\u001B[0m\n\u001B[0m",
      "\u001B[1;31mModuleNotFoundError\u001B[0m: No module named 'pySPM'"
     ]
    }
   ],
   "source": [
    "import numpy as np\n",
    "import matplotlib.pyplot as plt\n",
    "from read_nid import *\n",
    "from PIL import Image\n",
    "import struct\n",
    "from ReadWriteSXM import SPM\n",
    "import pySPM"
   ]
  },
  {
   "cell_type": "code",
   "execution_count": 22,
   "outputs": [],
   "source": [
    "import os"
   ],
   "metadata": {
    "collapsed": false,
    "ExecuteTime": {
     "end_time": "2023-10-18T06:57:10.723262500Z",
     "start_time": "2023-10-18T06:57:10.721992Z"
    }
   }
  },
  {
   "cell_type": "code",
   "execution_count": null,
   "outputs": [],
   "source": [
    "class SM2(pySPM.SXM):\n",
    "    def __init__(self, filename):\n",
    "        self.filename = filename\n",
    "        assert os.path.exists(self.filename)\n",
    "        self.f = open(self.filename, 'rb')\n",
    "        self.data_offset = 512\n",
    "        line = self.f.readline()\n",
    "        line = str(line)\n",
    "        lines = line.split()\n",
    "        # print(f\"data_offset: {self.data_offset}\")\n",
    "        self.size = dict(pixels={\n",
    "            'x': int(lines[7]),\n",
    "            'y': int(lines[8])\n",
    "        }, real={\n",
    "            'x': float(lines[12]) * int(lines[7]),\n",
    "            'y': float(lines[16]) * int(lines[8]),\n",
    "            'unit': lines[14]\n",
    "        })"
   ],
   "metadata": {
    "collapsed": false
   }
  },
  {
   "cell_type": "code",
   "execution_count": null,
   "outputs": [],
   "source": [],
   "metadata": {
    "collapsed": false
   }
  },
  {
   "cell_type": "code",
   "execution_count": 31,
   "outputs": [],
   "source": [
    "\n",
    "def read_sxm(file, dontflip=True):\n",
    "    \"\"\"\n",
    "    Gets data from existing SXM file\n",
    "    :param filename: file\n",
    "    :param dontflip: flips the matrix as default to match image file\n",
    "    :return:\n",
    "    \"\"\"\n",
    "    assert os.path.exists(file)\n",
    "    f = open(file, 'rb')\n",
    "    l = ''\n",
    "    key = ''\n",
    "    header = {}\n",
    "    while l != b':SCANIT_END:':\n",
    "        l = f.readline().rstrip()\n",
    "        if l[:1] == b':':\n",
    "            key = l.split(b':')[1].decode('ascii')\n",
    "            header[key] = []\n",
    "        else:\n",
    "            if l:  # remove empty lines\n",
    "                try:\n",
    "                    header[key].append(l.decode('ascii').split())\n",
    "                except KeyError as e:\n",
    "                    print(f\"KeyError: {key}, probably wrong filetype\")\n",
    "    while f.read(1) != b'\\x1a':\n",
    "        pass\n",
    "    assert f.read(1) == b'\\x04'\n",
    "    assert header['SCANIT_TYPE'][0][0] in ['FLOAT', 'INT', 'UINT', 'DOUBLE']\n",
    "    data_offset = f.tell()\n",
    "    size = dict(pixels={\n",
    "        'x': int(header['SCAN_PIXELS'][0][0]),\n",
    "        'y': int(header['SCAN_PIXELS'][0][1])\n",
    "    }, real={\n",
    "        'x': float(header['SCAN_RANGE'][0][0]),\n",
    "        'y': float(header['SCAN_RANGE'][0][1]),\n",
    "        'unit': 'm'\n",
    "    })\n",
    "    im_size = size['pixels']['x'] * size['pixels']['y']\n",
    "    data = np.array(struct.unpack('<>'['MSBFIRST' == header['SCANIT_TYPE'][0][1]] + str(im_size) +\n",
    "                                  {'FLOAT': 'f', 'INT': 'i', 'UINT': 'I', 'DOUBLE': 'd'}[\n",
    "                                      header['SCANIT_TYPE'][0][0]],\n",
    "                                  f.read(4 * im_size))).reshape((size['pixels']['y'], size['pixels']['x']))\n",
    "\n",
    "    x = data[0][0]\n",
    "\n",
    "\n",
    "    for i in range(data.shape[0]):\n",
    "        if np.isnan(data[i, 0]) or np.isnan(data[i, -1]):\n",
    "            continue\n",
    "        data = data[i:, :]\n",
    "        break\n",
    "\n",
    "\n",
    "    if not dontflip:\n",
    "        data = np.flipud(data)\n",
    "\n",
    "    mini = np.amin(data)\n",
    "    maxi = np.amax(data)\n",
    "\n",
    "    data = data.astype(float)\n",
    "    data = (data - mini) / (maxi - mini)\n",
    "\n",
    "\n",
    "    return data\n"
   ],
   "metadata": {
    "collapsed": false,
    "ExecuteTime": {
     "end_time": "2023-10-18T07:02:09.695208900Z",
     "start_time": "2023-10-18T07:02:09.688150Z"
    }
   }
  },
  {
   "cell_type": "code",
   "execution_count": 32,
   "outputs": [],
   "source": [
    "def read_spm(file):\n",
    "    \"\"\"\n",
    "    Read .spm file and save result as grayscale png\n",
    "    :param file:\n",
    "    :return:\n",
    "    \"\"\"\n",
    "    # print(\"ReadSPM \", file, \" -> \", resultf)\n",
    "    chID = 0  # 0: Image, 1: DI/DV, 2: ?\n",
    "    spm = SPM(file)\n",
    "    dat = spm.get_data(chID=chID)\n",
    "    dat = dat.astype(float)\n",
    "    maxi = np.amax(dat)\n",
    "    mini = np.amin(dat)\n",
    "    dat = (dat - mini) / (maxi - mini)\n",
    "    dat *= 255\n",
    "    dat = dat.astype(np.uint8)\n",
    "    dat = np.flipud(dat)\n",
    "    # dat = np.fliplr(dat)\n",
    "    return dat"
   ],
   "metadata": {
    "collapsed": false,
    "ExecuteTime": {
     "end_time": "2023-10-18T07:02:37.046367400Z",
     "start_time": "2023-10-18T07:02:37.030182Z"
    }
   }
  },
  {
   "cell_type": "code",
   "execution_count": 23,
   "outputs": [],
   "source": [
    "nid_file = r\"D:\\Dateien\\KI_Speicher\\SampleSXM\\FormatComparison\\Image00085.nid\"\n",
    "sxm_file = r\"D:\\Dateien\\KI_Speicher\\SampleSXM\\FormatComparison\\Au-Au094.sxm\"\n",
    "sm2_file = r\"D:\\Dateien\\KI_Speicher\\SampleSXM\\FormatComparison\\Image001255.SM2\"\n",
    "bmp_file = r\"D:\\Dateien\\KI_Speicher\\SampleSXM\\FormatComparison\\Au-Au094.bmp\""
   ],
   "metadata": {
    "collapsed": false,
    "ExecuteTime": {
     "end_time": "2023-10-18T06:57:10.851228400Z",
     "start_time": "2023-10-18T06:57:10.847466700Z"
    }
   }
  },
  {
   "cell_type": "code",
   "execution_count": 24,
   "outputs": [],
   "source": [
    "nid_dat = read(nid_file)"
   ],
   "metadata": {
    "collapsed": false,
    "ExecuteTime": {
     "end_time": "2023-10-18T06:57:11.034293200Z",
     "start_time": "2023-10-18T06:57:10.973570800Z"
    }
   }
  },
  {
   "cell_type": "code",
   "execution_count": 25,
   "outputs": [],
   "source": [
    "nid_arr = nid_dat.data[2]"
   ],
   "metadata": {
    "collapsed": false,
    "ExecuteTime": {
     "end_time": "2023-10-18T06:57:11.127586300Z",
     "start_time": "2023-10-18T06:57:11.114593Z"
    }
   }
  },
  {
   "cell_type": "code",
   "execution_count": 29,
   "outputs": [],
   "source": [
    "bmp_arr = np.array(Image.open(bmp_file))[:, :, 0]"
   ],
   "metadata": {
    "collapsed": false,
    "ExecuteTime": {
     "end_time": "2023-10-18T06:57:28.784607Z",
     "start_time": "2023-10-18T06:57:28.766605100Z"
    }
   }
  },
  {
   "cell_type": "code",
   "execution_count": 37,
   "outputs": [],
   "source": [
    "sxm_arr = read_sxm(sxm_file)"
   ],
   "metadata": {
    "collapsed": false,
    "ExecuteTime": {
     "end_time": "2023-10-18T07:03:09.473669700Z",
     "start_time": "2023-10-18T07:03:09.454056900Z"
    }
   }
  },
  {
   "cell_type": "code",
   "execution_count": 43,
   "outputs": [
    {
     "name": "stdout",
     "output_type": "stream",
     "text": [
      "Exception:  Probably wrong filetype, maybe errorbar set to low\n",
      "Invalid file  D:\\Dateien\\KI_Speicher\\SampleSXM\\FormatComparison\\Image001255.SM2\n"
     ]
    },
    {
     "ename": "AttributeError",
     "evalue": "'SPM' object has no attribute 'size'",
     "output_type": "error",
     "traceback": [
      "\u001B[1;31m---------------------------------------------------------------------------\u001B[0m",
      "\u001B[1;31mAttributeError\u001B[0m                            Traceback (most recent call last)",
      "\u001B[1;32m~\\AppData\\Local\\Temp\\ipykernel_11564\\4273033972.py\u001B[0m in \u001B[0;36m<module>\u001B[1;34m\u001B[0m\n\u001B[1;32m----> 1\u001B[1;33m \u001B[0mspm_arr\u001B[0m \u001B[1;33m=\u001B[0m \u001B[0mread_spm\u001B[0m\u001B[1;33m(\u001B[0m\u001B[0msm2_file\u001B[0m\u001B[1;33m)\u001B[0m\u001B[1;33m\u001B[0m\u001B[1;33m\u001B[0m\u001B[0m\n\u001B[0m",
      "\u001B[1;32m~\\AppData\\Local\\Temp\\ipykernel_11564\\487748915.py\u001B[0m in \u001B[0;36mread_spm\u001B[1;34m(file)\u001B[0m\n\u001B[0;32m      8\u001B[0m     \u001B[0mchID\u001B[0m \u001B[1;33m=\u001B[0m \u001B[1;36m0\u001B[0m  \u001B[1;31m# 0: Image, 1: DI/DV, 2: ?\u001B[0m\u001B[1;33m\u001B[0m\u001B[1;33m\u001B[0m\u001B[0m\n\u001B[0;32m      9\u001B[0m     \u001B[0mspm\u001B[0m \u001B[1;33m=\u001B[0m \u001B[0mSPM\u001B[0m\u001B[1;33m(\u001B[0m\u001B[0mfile\u001B[0m\u001B[1;33m)\u001B[0m\u001B[1;33m\u001B[0m\u001B[1;33m\u001B[0m\u001B[0m\n\u001B[1;32m---> 10\u001B[1;33m     \u001B[0mdat\u001B[0m \u001B[1;33m=\u001B[0m \u001B[0mspm\u001B[0m\u001B[1;33m.\u001B[0m\u001B[0mget_data\u001B[0m\u001B[1;33m(\u001B[0m\u001B[0mchID\u001B[0m\u001B[1;33m=\u001B[0m\u001B[0mchID\u001B[0m\u001B[1;33m)\u001B[0m\u001B[1;33m\u001B[0m\u001B[1;33m\u001B[0m\u001B[0m\n\u001B[0m\u001B[0;32m     11\u001B[0m     \u001B[0mdat\u001B[0m \u001B[1;33m=\u001B[0m \u001B[0mdat\u001B[0m\u001B[1;33m.\u001B[0m\u001B[0mastype\u001B[0m\u001B[1;33m(\u001B[0m\u001B[0mfloat\u001B[0m\u001B[1;33m)\u001B[0m\u001B[1;33m\u001B[0m\u001B[1;33m\u001B[0m\u001B[0m\n\u001B[0;32m     12\u001B[0m     \u001B[0mmaxi\u001B[0m \u001B[1;33m=\u001B[0m \u001B[0mnp\u001B[0m\u001B[1;33m.\u001B[0m\u001B[0mamax\u001B[0m\u001B[1;33m(\u001B[0m\u001B[0mdat\u001B[0m\u001B[1;33m)\u001B[0m\u001B[1;33m\u001B[0m\u001B[1;33m\u001B[0m\u001B[0m\n",
      "\u001B[1;32m~\\PycharmProjects\\SwinIR_DNAori\\EvaluateDNA\\ReadWriteSXM.py\u001B[0m in \u001B[0;36mget_data\u001B[1;34m(self, chID, corr_lines, byteorder, formatcharacter)\u001B[0m\n\u001B[0;32m     58\u001B[0m         \u001B[1;31m# formatcharacter = 'h'  # formatcharacter: i: int, f: float, l: long, d: double, h: short(int16) (uppercase for unsigned version)\u001B[0m\u001B[1;33m\u001B[0m\u001B[1;33m\u001B[0m\u001B[0m\n\u001B[0;32m     59\u001B[0m \u001B[1;33m\u001B[0m\u001B[0m\n\u001B[1;32m---> 60\u001B[1;33m         \u001B[0msize\u001B[0m \u001B[1;33m=\u001B[0m \u001B[0mself\u001B[0m\u001B[1;33m.\u001B[0m\u001B[0msize\u001B[0m\u001B[1;33m[\u001B[0m\u001B[1;34m'pixels'\u001B[0m\u001B[1;33m]\u001B[0m\u001B[1;33m[\u001B[0m\u001B[1;34m'x'\u001B[0m\u001B[1;33m]\u001B[0m \u001B[1;33m*\u001B[0m \u001B[0mself\u001B[0m\u001B[1;33m.\u001B[0m\u001B[0msize\u001B[0m\u001B[1;33m[\u001B[0m\u001B[1;34m'pixels'\u001B[0m\u001B[1;33m]\u001B[0m\u001B[1;33m[\u001B[0m\u001B[1;34m'y'\u001B[0m\u001B[1;33m]\u001B[0m\u001B[1;33m\u001B[0m\u001B[1;33m\u001B[0m\u001B[0m\n\u001B[0m\u001B[0;32m     61\u001B[0m         \u001B[0mself\u001B[0m\u001B[1;33m.\u001B[0m\u001B[0mf\u001B[0m\u001B[1;33m.\u001B[0m\u001B[0mseek\u001B[0m\u001B[1;33m(\u001B[0m\u001B[0mself\u001B[0m\u001B[1;33m.\u001B[0m\u001B[0mdata_offset\u001B[0m \u001B[1;33m+\u001B[0m \u001B[0mchID\u001B[0m \u001B[1;33m*\u001B[0m \u001B[0msize\u001B[0m \u001B[1;33m*\u001B[0m \u001B[1;36m4\u001B[0m\u001B[1;33m)\u001B[0m\u001B[1;33m\u001B[0m\u001B[1;33m\u001B[0m\u001B[0m\n\u001B[0;32m     62\u001B[0m         \u001B[0mdatastring\u001B[0m \u001B[1;33m=\u001B[0m \u001B[1;34m''\u001B[0m\u001B[1;33m.\u001B[0m\u001B[0mjoin\u001B[0m\u001B[1;33m(\u001B[0m\u001B[1;33m[\u001B[0m\u001B[0mbyteorder\u001B[0m\u001B[1;33m,\u001B[0m \u001B[0mstr\u001B[0m\u001B[1;33m(\u001B[0m\u001B[0msize\u001B[0m\u001B[1;33m)\u001B[0m\u001B[1;33m,\u001B[0m \u001B[0mformatcharacter\u001B[0m\u001B[1;33m]\u001B[0m\u001B[1;33m)\u001B[0m\u001B[1;33m\u001B[0m\u001B[1;33m\u001B[0m\u001B[0m\n",
      "\u001B[1;31mAttributeError\u001B[0m: 'SPM' object has no attribute 'size'"
     ]
    }
   ],
   "source": [
    "spm_arr = read_spm(sm2_file)"
   ],
   "metadata": {
    "collapsed": false,
    "ExecuteTime": {
     "end_time": "2023-10-18T07:04:22.711076300Z",
     "start_time": "2023-10-18T07:04:20.384399400Z"
    }
   }
  },
  {
   "cell_type": "markdown",
   "source": [],
   "metadata": {
    "collapsed": false
   }
  }
 ],
 "metadata": {
  "kernelspec": {
   "display_name": "Python 3",
   "language": "python",
   "name": "python3"
  },
  "language_info": {
   "codemirror_mode": {
    "name": "ipython",
    "version": 2
   },
   "file_extension": ".py",
   "mimetype": "text/x-python",
   "name": "python",
   "nbconvert_exporter": "python",
   "pygments_lexer": "ipython2",
   "version": "2.7.6"
  }
 },
 "nbformat": 4,
 "nbformat_minor": 0
}
